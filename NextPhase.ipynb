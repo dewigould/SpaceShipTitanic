{
 "cells": [
  {
   "cell_type": "code",
   "execution_count": 37,
   "metadata": {},
   "outputs": [
    {
     "data": {
      "text/plain": [
       "<module 'ProcessingFunctions' from '/Users/DewiGould/Desktop/Kaggle/SpaceTitanic/ProcessingFunctions.py'>"
      ]
     },
     "execution_count": 37,
     "metadata": {},
     "output_type": "execute_result"
    }
   ],
   "source": [
    "import pandas as pd\n",
    "import re\n",
    "import numpy as np\n",
    "import importlib\n",
    "from sklearn.ensemble import RandomForestRegressor\n",
    "import ProcessingFunctions as pf\n",
    "importlib.reload(pf)"
   ]
  },
  {
   "cell_type": "code",
   "execution_count": null,
   "metadata": {},
   "outputs": [],
   "source": []
  },
  {
   "cell_type": "code",
   "execution_count": 39,
   "metadata": {},
   "outputs": [],
   "source": [
    "df_test = pd.read_csv('spaceship-titanic-data/test.csv')\n",
    "\n",
    "df_test = pf.replace_null_with_U(df_test,'PassengerId')\n",
    "df_test = pf.split_passenger_id_column(df_test)\n",
    "\n",
    "\n",
    "\n",
    "notnull = df_test[~df_test['HomePlanet'].isnull()]\n",
    "dictionary_homeplanets = notnull.set_index('gggg')['HomePlanet'].to_dict()\n",
    "df_test['HomePlanet'] = df_test['gggg'].apply(pf.update_homeplanet,args=(dictionary_homeplanets,))\n",
    "\n",
    "\n",
    "\n",
    "\n",
    "df_test = pf.replace_nulls_with_means(df_test)\n",
    "df_test = pf.replace_nulls_with_Us(df_test)\n",
    "df_test = pf.split_cabin_column(df_test)\n",
    "\n",
    "# For now, let's just try making all binary columns OneHotEncoders to include the Null values.\n",
    "categorical_columns = ['HomePlanet','Destination','CryoSleep','VIP','deck','side']\n",
    "df_test = pf.one_hot_encode_columns(df_test,categorical_columns)\n",
    "\n",
    "# StandardScaler.\n",
    "cols_to_scale = ['Age','RoomService','FoodCourt','ShoppingMall','Spa','VRDeck']\n",
    "df_test,empty = pf.scale_numerical_columns(df_test,cols_to_scale, scaler)"
   ]
  },
  {
   "cell_type": "code",
   "execution_count": 90,
   "metadata": {},
   "outputs": [],
   "source": [
    "# remove several columns for now, to make life easier.\n",
    "X_dataset = df.drop(columns=['PassengerId','gggg','pp','number','Name'])\n",
    "training = X_dataset.sample(n=5000)\n",
    "X_train = training.drop(columns=['Transported'])\n",
    "y_train = training.loc[:,'Transported'].astype(int)\n",
    "X_test = X_dataset[~X_dataset.index.isin(X_train.index)].drop(columns=['Transported']) #complement of training set.\n",
    "y_test = X_dataset[~X_dataset.index.isin(X_train.index)].loc[:,'Transported'].astype(int)"
   ]
  },
  {
   "cell_type": "code",
   "execution_count": 91,
   "metadata": {},
   "outputs": [],
   "source": [
    "regressor = RandomForestRegressor(n_estimators=20, random_state=0)\n",
    "regressor.fit(X_train, y_train)\n",
    "y_pred = regressor.predict(X_test)\n",
    "\n",
    "y_pred = [round(i) for i in y_pred]\n"
   ]
  },
  {
   "cell_type": "code",
   "execution_count": 92,
   "metadata": {},
   "outputs": [
    {
     "data": {
      "text/plain": [
       "array([[1481,  351],\n",
       "       [ 495, 1366]])"
      ]
     },
     "execution_count": 92,
     "metadata": {},
     "output_type": "execute_result"
    }
   ],
   "source": [
    "from sklearn.metrics import confusion_matrix\n",
    "\n",
    "confusion_matrix(y_test, y_pred)"
   ]
  },
  {
   "cell_type": "code",
   "execution_count": null,
   "metadata": {},
   "outputs": [],
   "source": []
  },
  {
   "cell_type": "code",
   "execution_count": null,
   "metadata": {},
   "outputs": [],
   "source": []
  },
  {
   "cell_type": "code",
   "execution_count": null,
   "metadata": {},
   "outputs": [],
   "source": []
  },
  {
   "cell_type": "code",
   "execution_count": null,
   "metadata": {},
   "outputs": [],
   "source": []
  },
  {
   "cell_type": "code",
   "execution_count": null,
   "metadata": {},
   "outputs": [],
   "source": []
  },
  {
   "cell_type": "code",
   "execution_count": 46,
   "metadata": {},
   "outputs": [],
   "source": [
    "# remove several columns for now, to make life easier.\n",
    "X_train = df.drop(columns=['Transported','PassengerId','gggg','pp','number','Name'])\n",
    "y_train = df.loc[:,'Transported']\n",
    "X_test = df_test.drop(columns=['PassengerId','gggg','pp','number','Name'])\n",
    "\n",
    "\n",
    "regressor = RandomForestRegressor(n_estimators=20, random_state=0)\n",
    "regressor.fit(X_train, y_train)\n",
    "y_pred = regressor.predict(X_test)\n",
    "\n",
    "y_pred = [round(i) for i in y_pred]\n",
    "\n",
    "X_test['Transported'] = y_pred"
   ]
  },
  {
   "cell_type": "code",
   "execution_count": 47,
   "metadata": {},
   "outputs": [],
   "source": [
    "df_test_submit = pd.read_csv('spaceship-titanic-data/test.csv')\n",
    "df_combined = df_test_submit.combine_first(X_test[[\"Transported\"]])\n",
    "df_combined['Transported'] = df_combined['Transported'].fillna(1)\n",
    "df_combined['Transported'] = df_combined['Transported'].astype(bool)\n",
    "df_combined[['PassengerId','Transported']].to_csv('submission_homeplanet_nulls.csv',index=False)"
   ]
  },
  {
   "cell_type": "code",
   "execution_count": null,
   "metadata": {},
   "outputs": [],
   "source": []
  }
 ],
 "metadata": {
  "kernelspec": {
   "display_name": "Python 3",
   "language": "python",
   "name": "python3"
  },
  "language_info": {
   "codemirror_mode": {
    "name": "ipython",
    "version": 3
   },
   "file_extension": ".py",
   "mimetype": "text/x-python",
   "name": "python",
   "nbconvert_exporter": "python",
   "pygments_lexer": "ipython3",
   "version": "3.7.9"
  }
 },
 "nbformat": 4,
 "nbformat_minor": 4
}
